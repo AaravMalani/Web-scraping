{
 "cells": [
  {
   "cell_type": "code",
   "execution_count": 2,
   "metadata": {},
   "outputs": [],
   "source": [
    "import csv\n",
    "import requests\n",
    "import re\n",
    "import pandas as pd\n",
    "from selenium import webdriver\n",
    "from selenium.webdriver.common.keys import Keys\n",
    "from selenium.webdriver.common.by import By"
   ]
  },
  {
   "cell_type": "code",
   "execution_count": null,
   "metadata": {},
   "outputs": [],
   "source": [
    "# driver = webdriver.Edge()\n",
    "driver = webdriver.Chrome(r'your_driver_path\\chromedriver')\n",
    "driver.get('https://www.amazon.eg/-/en/s?i=fashion&bbn=21845147031&rh=n%3A18018165031%2Cn%3A21845147031%2Cn%3A21845179031&dc&fs=true&page=2&language=en&qid=1675347559&rnid=21845147031&ref=sr_pg_2')"
   ]
  },
  {
   "cell_type": "code",
   "execution_count": 5,
   "metadata": {},
   "outputs": [],
   "source": [
    "# get the whole div that carrying all the details of the product\n",
    "wholeDiv = driver.find_elements(By.XPATH,'//div[@class=\"s-card-container s-overflow-hidden aok-relative puis-expand-height puis-include-content-margin puis s-latency-cf-section s-card-border\"]')"
   ]
  },
  {
   "cell_type": "code",
   "execution_count": null,
   "metadata": {},
   "outputs": [],
   "source": [
    "# print properities of a single product\n",
    "print(wholeDiv[0].get_property('innerHTML'))"
   ]
  },
  {
   "cell_type": "code",
   "execution_count": null,
   "metadata": {},
   "outputs": [],
   "source": [
    "with open('.\\File.csv', 'w',encoding='UTF-8',newline='') as csvfile:\n",
    "    csvwriter = csv.writer(csvfile, delimiter=',')\n",
    "    # header of the file\n",
    "    csvwriter.writerow(['Product Name','Price','Rating','Img Path','Category','Category Name','Description'])\n",
    "    j = 0\n",
    "\n",
    "\n",
    "    for k in range(1,10):\n",
    "        wholeDiv = driver.find_elements(By.XPATH,'//div[@class=\"s-card-container s-overflow-hidden aok-relative puis-expand-height puis-include-content-margin puis s-latency-cf-section s-card-border\"]')\n",
    "\n",
    "        for i in wholeDiv:\n",
    "            # rating\n",
    "            rating = None\n",
    "            txt = i.get_property('innerHTML')\n",
    "            x = re.search('<div class=\"a-row a-size-small\"><span aria-label=\"',txt)\n",
    "            y = re.search('out of 5 stars',txt)\n",
    "            if x and y:\n",
    "                rating = txt[x.span()[1]:y.span()[0]]\n",
    "\n",
    "            # price\n",
    "            price = 0\n",
    "            txt = i.get_property('innerHTML')\n",
    "            x = re.search('<span class=\"a-price-whole\">',txt)\n",
    "            y = re.search('<span class=\"a-price-decimal\"',txt)\n",
    "            \n",
    "            if x and y:\n",
    "                price = txt[x.span()[1]:y.span()[0]] \n",
    "                price = re.sub(\",\", \"\", price)\n",
    "            \n",
    "            # name\n",
    "            txt = i.get_property('innerHTML')\n",
    "            x = re.search('<span class=\"a-size-base-plus a-color-base a-text-normal\">',txt)\n",
    "            y = re.search('</span>',txt[x.span()[1]:])\n",
    "\n",
    "            name = txt[x.span()[1]:y.span()[0]+x.span()[1]]\n",
    "            \n",
    "            # image\n",
    "            txt = i.get_property('innerHTML')\n",
    "            x = re.search('<div class=\"a-section aok-relative s-image-tall-aspect\"><img class=\"s-image\" src=\"',txt)\n",
    "            y = re.search('\" srcset=\"',txt)\n",
    "\n",
    "            # download images into /images folder\n",
    "            img_data = requests.get(txt[x.span()[1]:y.span()[0]]).content\n",
    "            with open(f'images/{j}.jpg', 'wb') as handler:\n",
    "                handler.write(img_data)\n",
    "            \n",
    "            # write data into csv file\n",
    "            csvwriter.writerow([name,float(price),rating,f'images/{j}.jpg','Men','Accessories',name])\n",
    "\n",
    "            j += 1\n",
    "        print(f\"Page {k} done\")\n",
    "        # link of the next page with update of k\n",
    "        driver.get(f'https://www.amazon.eg/-/en/s?i=fashion&bbn=21845147031&rh=n%3A18018165031%2Cn%3A21845147031%2Cn%3A21845179031&dc&fs=true&page={k+1}&language=en&qid=1675347559&rnid=21845147031&ref=sr_pg_2')\n",
    "        \n"
   ]
  }
 ],
 "metadata": {
  "kernelspec": {
   "display_name": "Python 3",
   "language": "python",
   "name": "python3"
  },
  "language_info": {
   "codemirror_mode": {
    "name": "ipython",
    "version": 3
   },
   "file_extension": ".py",
   "mimetype": "text/x-python",
   "name": "python",
   "nbconvert_exporter": "python",
   "pygments_lexer": "ipython3",
   "version": "3.11.0"
  },
  "orig_nbformat": 4,
  "vscode": {
   "interpreter": {
    "hash": "c261aea317cc0286b3b3261fbba9abdec21eaa57589985bb7a274bf54d6cc0a7"
   }
  }
 },
 "nbformat": 4,
 "nbformat_minor": 2
}
